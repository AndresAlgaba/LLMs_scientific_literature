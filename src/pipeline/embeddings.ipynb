{
 "cells": [
  {
   "cell_type": "code",
   "execution_count": 1,
   "metadata": {},
   "outputs": [
    {
     "name": "stderr",
     "output_type": "stream",
     "text": [
      "/Users/andresalgaba/Library/CloudStorage/OneDrive-VrijeUniversiteitBrussel/gpt_flo/.andresvenv/lib/python3.12/site-packages/tqdm/auto.py:21: TqdmWarning: IProgress not found. Please update jupyter and ipywidgets. See https://ipywidgets.readthedocs.io/en/stable/user_install.html\n",
      "  from .autonotebook import tqdm as notebook_tqdm\n",
      "BertAdapterModel has generative capabilities, as `prepare_inputs_for_generation` is explicitly overwritten. However, it doesn't directly inherit from `GenerationMixin`. From 👉v4.50👈 onwards, `PreTrainedModel` will NOT inherit from `GenerationMixin`, and this model will lose the ability to call `generate` and other related functions.\n",
      "  - If you're using `trust_remote_code=True`, you can get rid of this warning by loading the model with an auto class. See https://huggingface.co/docs/transformers/en/model_doc/auto#auto-classes\n",
      "  - If you are the owner of the model architecture code, please modify your model class such that it inherits from `GenerationMixin` (after `PreTrainedModel`, otherwise you'll get an exception).\n",
      "  - If you are not the owner of the model architecture class, please contact the model code owner to update it.\n",
      "Fetching 4 files: 100%|██████████| 4/4 [00:00<00:00, 34169.48it/s]\n",
      "/Users/andresalgaba/Library/CloudStorage/OneDrive-VrijeUniversiteitBrussel/gpt_flo/.andresvenv/lib/python3.12/site-packages/adapters/loading.py:165: FutureWarning: You are using `torch.load` with `weights_only=False` (the current default value), which uses the default pickle module implicitly. It is possible to construct malicious pickle data which will execute arbitrary code during unpickling (See https://github.com/pytorch/pytorch/blob/main/SECURITY.md#untrusted-models for more details). In a future release, the default value for `weights_only` will be flipped to `True`. This limits the functions that could be executed during unpickling. Arbitrary objects will no longer be allowed to be loaded via this mode unless they are explicitly allowlisted by the user via `torch.serialization.add_safe_globals`. We recommend you start setting `weights_only=True` for any use case where you don't have full control of the loaded file. Please open an issue on GitHub for any issues related to this experimental feature.\n",
      "  state_dict = torch.load(weights_file, map_location=\"cpu\")\n"
     ]
    },
    {
     "data": {
      "text/plain": [
       "'[PRX]'"
      ]
     },
     "execution_count": 1,
     "metadata": {},
     "output_type": "execute_result"
    }
   ],
   "source": [
    "import torch\n",
    "import pandas as pd\n",
    "import numpy as np\n",
    "from transformers import AutoTokenizer, pipeline\n",
    "from adapters import AutoAdapterModel\n",
    "\n",
    "# tokenizer\n",
    "tokenizer = AutoTokenizer.from_pretrained('allenai/specter2_base')\n",
    "\n",
    "# models\n",
    "model = AutoAdapterModel.from_pretrained('allenai/specter2_base')\n",
    "model.load_adapter(\n",
    "    adapter_name_or_path='allenai/specter2_proximity',\n",
    "    source='hf',\n",
    "    set_active=True,\n",
    "    weights_only=True,\n",
    ")\n",
    "# allenai/specter2_<proximity|classification|regression|adhoc_query>\n",
    "\n",
    "# feature_extractor = pipeline(\n",
    "#     task=\"feature-extraction\",\n",
    "#     model=model,\n",
    "#     tokenizer=tokenizer,\n",
    "#     device=\"mps\",\n",
    "# )"
   ]
  },
  {
   "cell_type": "code",
   "execution_count": 2,
   "metadata": {},
   "outputs": [],
   "source": [
    "df_sample = pd.read_csv(\"SciSciNet_Sample_Journals_subset.csv\")\n",
    "\n",
    "focal_papers = []\n",
    "for idx, row in df_sample.iterrows():\n",
    "    focal_papers.append(\n",
    "        {\n",
    "            'title': row[\"PaperTitle\"],\n",
    "            'abstract': open(f\"abstracts/{row['PaperID']}.txt\", 'r').read()\n",
    "        }\n",
    "    )\n",
    "\n",
    "focal_batch = [d['title'] + '[SEP]' + (d.get('abstract') or '') for d in focal_papers]"
   ]
  },
  {
   "cell_type": "code",
   "execution_count": 3,
   "metadata": {},
   "outputs": [],
   "source": [
    "model.to(\"mps\")\n",
    "all_embeddings = []\n",
    "\n",
    "CHUNK_SIZE = 512\n",
    "\n",
    "with torch.no_grad():\n",
    "    for i in range(0, len(focal_batch), CHUNK_SIZE):\n",
    "        sub_batch = focal_batch[i : i + CHUNK_SIZE]\n",
    "        encoded = tokenizer(\n",
    "            sub_batch,\n",
    "            padding=True,\n",
    "            truncation=True,\n",
    "            max_length=512,\n",
    "            return_tensors=\"pt\",\n",
    "        ).to(\"mps\")\n",
    "\n",
    "        outputs = model(**encoded)\n",
    "\n",
    "        cls_vec = outputs.last_hidden_state[:, 0, :]\n",
    "        all_embeddings.append(cls_vec.cpu())\n",
    "\n",
    "final_embeddings = torch.cat(all_embeddings, dim=0).numpy()\n",
    "\n",
    "# np.save(\"focal_abstract_embeddings.npy\", final_embeddings)"
   ]
  },
  {
   "cell_type": "code",
   "execution_count": null,
   "metadata": {},
   "outputs": [],
   "source": []
  },
  {
   "cell_type": "code",
   "execution_count": null,
   "metadata": {},
   "outputs": [],
   "source": []
  },
  {
   "cell_type": "code",
   "execution_count": null,
   "metadata": {},
   "outputs": [],
   "source": []
  },
  {
   "cell_type": "code",
   "execution_count": null,
   "metadata": {},
   "outputs": [],
   "source": [
    "sample_paper_titles = df_sample[\"PaperTitle\"].tolist()\n",
    "sample_raw_embeddings = feature_extractor(\n",
    "    sample_paper_titles,\n",
    "    batch_size=512,\n",
    "    padding=True,\n",
    "    return_tensors=True,\n",
    ")\n",
    "sample_final_embeddings = torch.cat(\n",
    "    [embedding [:, 0, :] for embedding in sample_raw_embeddings]\n",
    ").numpy()\n",
    "\n",
    "# np.save(\"focal_embeddings.npy\", sample_final_embeddings)"
   ]
  },
  {
   "cell_type": "code",
   "execution_count": 2,
   "metadata": {},
   "outputs": [],
   "source": [
    "generated_titles = df_generated[\"Title\"].tolist()\n",
    "generated_raw_embeddings = feature_extractor(\n",
    "    generated_titles,\n",
    "    batch_size=512,\n",
    "    padding=True,\n",
    "    return_tensors=True,\n",
    ")\n",
    "generated_final_embeddings = torch.cat(\n",
    "    [embedding[:, 0, :] for embedding in generated_raw_embeddings]\n",
    ").numpy()\n",
    "\n",
    "# np.save(\"generated_embeddings.npy\", generated_final_embeddings)"
   ]
  },
  {
   "cell_type": "code",
   "execution_count": null,
   "metadata": {},
   "outputs": [],
   "source": [
    "ground_truth_paper_titles = df_ground_truth[\"PaperTitle\"].tolist()\n",
    "ground_truth_raw_embeddings = feature_extractor(\n",
    "    ground_truth_paper_titles,\n",
    "    batch_size=512,\n",
    "    padding=True,\n",
    "    return_tensors=True,\n",
    ")\n",
    "ground_truth_final_embeddings = torch.cat(\n",
    "    [embedding [:, 0, :] for embedding in ground_truth_raw_embeddings]\n",
    ").numpy()\n",
    "\n",
    "# np.save(\"ground_truth_embeddings.npy\", ground_truth_final_embeddings)"
   ]
  },
  {
   "cell_type": "code",
   "execution_count": null,
   "metadata": {},
   "outputs": [],
   "source": []
  }
 ],
 "metadata": {
  "kernelspec": {
   "display_name": ".venv",
   "language": "python",
   "name": "python3"
  },
  "language_info": {
   "codemirror_mode": {
    "name": "ipython",
    "version": 3
   },
   "file_extension": ".py",
   "mimetype": "text/x-python",
   "name": "python",
   "nbconvert_exporter": "python",
   "pygments_lexer": "ipython3",
   "version": "3.12.6"
  }
 },
 "nbformat": 4,
 "nbformat_minor": 2
}
