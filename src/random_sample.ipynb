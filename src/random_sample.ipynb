{
 "cells": [
  {
   "cell_type": "code",
   "execution_count": null,
   "metadata": {},
   "outputs": [],
   "source": [
    "import matplotlib.pyplot as plt\n",
    "import pandas as pd\n",
    "import numpy as np\n",
    "import seaborn as sns\n",
    "\n",
    "from scipy.stats import norm\n",
    "import matplotlib.lines as mlines\n",
    "from matplotlib.patches import Patch\n",
    "from mpl_toolkits.axes_grid1.inset_locator import inset_axes\n",
    "\n",
    "from config import ORDER, JOURNAL_MAP\n",
    "\n",
    "plt.rcParams[\"font.family\"] = \"Arial\"\n",
    "plt.rcParams['legend.title_fontsize'] = 7\n",
    "plt.rcParams[\"text.usetex\"] = True\n",
    "\n",
    "df_generated = pd.read_csv(\"../data/generated_references.csv\")"
   ]
  },
  {
   "cell_type": "code",
   "execution_count": null,
   "metadata": {},
   "outputs": [],
   "source": [
    "# sample to verify existence algorithm\n",
    "df_generated.sample(100, random_state=42)[\n",
    "    [\"Title\", \"SciSciNet_Title\", \"Authors\", \"SciSciNet_Authors\", \"Exists\"]\n",
    "].to_csv(\"../data/random_sample.csv\", index=True)"
   ]
  }
 ],
 "metadata": {
  "language_info": {
   "name": "python"
  }
 },
 "nbformat": 4,
 "nbformat_minor": 2
}
